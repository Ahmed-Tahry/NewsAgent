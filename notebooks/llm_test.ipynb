{
 "cells": [
  {
   "cell_type": "markdown",
   "metadata": {},
   "source": [
    "# LLM Analysis Test"
   ]
  },
  {
   "cell_type": "markdown",
   "id": "40d88e50",
   "metadata": {},
   "source": []
  },
  {
   "cell_type": "markdown",
   "metadata": {},
   "source": [
    "## 1. Imports and Setup"
   ]
  },
  {
   "cell_type": "code",
   "execution_count": 1,
   "id": "50e09330",
   "metadata": {},
   "outputs": [
    {
     "name": "stderr",
     "output_type": "stream",
     "text": [
      "c:\\Users\\ahmed\\AppData\\Local\\Programs\\Python\\Python312\\Lib\\site-packages\\tqdm\\auto.py:21: TqdmWarning: IProgress not found. Please update jupyter and ipywidgets. See https://ipywidgets.readthedocs.io/en/stable/user_install.html\n",
      "  from .autonotebook import tqdm as notebook_tqdm\n"
     ]
    }
   ],
   "source": [
    "import sys\n",
    "import os\n",
    "import torch\n",
    "import re\n",
    "from transformers import AutoModelForCausalLM, AutoTokenizer, BitsAndBytesConfig\n",
    "sys.path.append(os.path.dirname(os.path.dirname(os.path.abspath('__file__'))))\n",
    "from config import LLM_MODEL_PATH\n",
    "LLM_MODEL_PATH = os.path.abspath(os.path.join('..', LLM_MODEL_PATH))"
   ]
  },
  {
   "cell_type": "markdown",
   "id": "d922dde7",
   "metadata": {},
   "source": [
    "## 2. Load the LLM"
   ]
  },
  {
   "cell_type": "code",
   "execution_count": 3,
   "id": "1559790d",
   "metadata": {},
   "outputs": [
    {
     "name": "stdout",
     "output_type": "stream",
     "text": [
      "GPU is available. Using CUDA.\n",
      "Loading model in 4-bit for GPU.\n"
     ]
    },
    {
     "name": "stderr",
     "output_type": "stream",
     "text": [
      "Loading checkpoint shards: 100%|██████████| 2/2 [00:17<00:00,  8.63s/it]"
     ]
    },
    {
     "name": "stdout",
     "output_type": "stream",
     "text": [
      "Analysis LLM loaded successfully in 4-bit.\n"
     ]
    },
    {
     "name": "stderr",
     "output_type": "stream",
     "text": [
      "\n"
     ]
    }
   ],
   "source": [
    "has_gpu = torch.cuda.is_available()\n",
    "if has_gpu:\n",
    "    device = torch.device(\"cuda\")\n",
    "    print(\"GPU is available. Using CUDA.\")\n",
    "else:\n",
    "    device = torch.device(\"cpu\")\n",
    "    print(\"GPU not available. Using CPU.\")\n",
    "\n",
    "llm_model = None\n",
    "llm_tokenizer = None\n",
    "if has_gpu:\n",
    "    try:\n",
    "        print(\"Loading model in 4-bit for GPU.\")\n",
    "        quantization_config = BitsAndBytesConfig(load_in_4bit=True)\n",
    "        llm_tokenizer = AutoTokenizer.from_pretrained(LLM_MODEL_PATH)\n",
    "        llm_model = AutoModelForCausalLM.from_pretrained(\n",
    "            LLM_MODEL_PATH,\n",
    "            quantization_config=quantization_config,\n",
    "            torch_dtype=torch.float16,\n",
    "            device_map=\"auto\",\n",
    "        )\n",
    "        print(\"Analysis LLM loaded successfully in 4-bit.\")\n",
    "    except Exception as e:\n",
    "        print(f\"Error loading Analysis LLM on GPU: {e}\")\n",
    "else:\n",
    "    print(\"Skipping LLM loading as no GPU is available.\")"
   ]
  },
  {
   "cell_type": "markdown",
   "metadata": {},
   "source": [
    "## 3. Prepare the Article and Prompt"
   ]
  },
  {
   "cell_type": "code",
   "execution_count": 4,
   "metadata": {},
   "outputs": [],
   "source": [
    "with open('../article.txt', 'r') as f:\n",
    "    article_text = f.read()"
   ]
  },
  {
   "cell_type": "markdown",
   "metadata": {},
   "source": [
    "## 4. Run Inference"
   ]
  },
  {
   "cell_type": "code",
   "execution_count": 5,
   "metadata": {},
   "outputs": [
    {
     "name": "stdout",
     "output_type": "stream",
     "text": [
      "Raw Generated Output (no tags found):\n",
      "<start_analysis>\n",
      "\n",
      "**Concise Summary:**\n",
      "Salesforce has agreed to acquire Slack Technologies for approximately $27.7 billion in cash and stock, marking its largest-ever acquisition. The deal combines Salesforce's Customer 360 platform with Slack's channel-based messaging platform, aiming to create a comprehensive 'operating system for your workday' and challenge Microsoft's Teams product.\n",
      "\n",
      "**Expanded Analysis:**\n",
      "The acquisition is a strategic move by Salesforce to strengthen its position in the growing market for team communication tools. Slack's integration with Salesforce's existing platform will enhance customer experience, increase stickiness, and make it harder for competitors to poach clients. The deal also underscores the trend of software companies acquiring complementary technologies to expand their offerings and increase market share. The acquisition's significance is further amplified by the fact that Slack is a beloved communication tool in the tech industry, with a large and dedicated user base.\n",
      "\n",
      "The acquisition will have significant implications for the tech industry, particularly in the collaboration and communication space. Slack's channel-based messaging platform will complement Salesforce's existing products, such as Sales Cloud and Service Cloud, allowing for more seamless integration and a more comprehensive customer experience. This will enable Salesforce to better compete with Microsoft's Teams, which has seen explosive growth.\n",
      "\n",
      "**Impact Forecast:**\n",
      "\n",
      "* **Financial Impact:** High (0.8)\n",
      "\t+ The acquisition will have a significant impact on Salesforce's revenue and profitability, with the company expecting to generate $1 billion in cost savings within the first year.\n",
      "\t+ The deal is expected to increase Salesforce's market value by 10-15% in the short term.\n",
      "* **Market Positioning:** High (0.9)\n",
      "\t+ The acquisition will strengthen Salesforce's position in the team communication tools market, making it a more attractive option for businesses looking for a comprehensive solution.\n",
      "\t+ Salesforce will be well-positioned to compete with Microsoft's Teams, which has seen explosive growth.\n",
      "* **Regulatory Impact:** Medium (0.6)\n",
      "\t+ The deal is subject to regulatory approval, which may take several months to complete.\n",
      "\t+ Any regulatory hurdles may slow the deal's completion or lead to changes in the terms of the acquisition.\n",
      "\n",
      "**Scenarios:**\n",
      "\n",
      "* **Scenario 1:** The acquisition is completed successfully, and Slack becomes an integral part of Salesforce's platform, leading to increased customer satisfaction and loyalty.\n",
      "\t+ Probability: 0.9\n",
      "\t+ Description: Slack's integration with Salesforce's existing products leads to a seamless customer experience, driving growth and increasing customer retention.\n",
      "* **Scenario 2:** Regulatory hurdles slow the deal's completion, leading to changes in the terms of the acquisition.\n",
      "\t+ Probability: 0.2\n",
      "\t+ Description: The deal is delayed, leading to changes in the terms of the acquisition, potentially affecting the deal's value and timeline.\n",
      "* **Scenario 3:** Microsoft responds to the acquisition by launching a competing product, which gains traction in the market.\n",
      "\t+ Probability: 0.1\n",
      "\t+ Description: Microsoft's response to the acquisition leads to a competitive market, potentially hurting Salesforce's growth and market share.\n",
      "\n",
      "**Confidence:** 0.85\n",
      "\n",
      "**Evidence Refs:**\n",
      "\n",
      "* \"Salesforce to buy Slack for $27.7 billion in cash and stock\" (CNBC)\n",
      "* \"Slack CEO Stewart Butterfield to stay on as head of Slack after sale to Salesforce\" (Bloomberg)\n",
      "* \"Salesforce's acquisition of Slack to create 'operating system for your workday'\" (Forbes)\n"
     ]
    }
   ],
   "source": [
    "analysis_start = \"<start_analysis>\"\n",
    "analysis_end = \"</end_analysis>\"\n",
    "system_prompt = f\"\"\"You are an analyst given an article and associated entities.\n",
    "Analyze the article and produce:\n",
    "- Concise Summary: A brief overview.\n",
    "- Expanded Analysis: A deeper analysis.\n",
    "- Impact Forecast: List impacts with type, horizon (SHORT_TERM/MEDIUM_TERM/LONG_TERM), magnitude (LOW/MEDIUM/HIGH), probability (0-1), and rationale.\n",
    "- Scenarios: List possible outcomes with probability (0-1) and description.\n",
    "- Confidence: Overall confidence score (0-1).\n",
    "- Evidence Refs: List of reference IDs.\n",
    "\n",
    "Place your full analysis between {analysis_start} and {analysis_end}.\n",
    "Output in plain text with sections like 'Concise Summary:', 'Impact Forecast:', etc.\"\"\"\n",
    "\n",
    "user_prompt = f\"\"\"Article Text: {article_text}\\n\\nAnalyze this article.\"\"\"\n",
    "\n",
    "prompt = [\n",
    "    {\"role\": \"system\", \"content\": system_prompt},\n",
    "    {\"role\": \"user\", \"content\": user_prompt}\n",
    "]\n",
    "\n",
    "if not llm_tokenizer or not llm_model:\n",
    "    if not has_gpu:\n",
    "        print(\"LLM analysis skipped: No GPU available.\")\n",
    "    else:\n",
    "        print(\"LLM model or tokenizer not available.\")\n",
    "else:\n",
    "    prompt_text = llm_tokenizer.apply_chat_template(prompt, tokenize=False, add_generation_prompt=True)\n",
    "    inputs = llm_tokenizer(prompt_text, return_tensors=\"pt\").to(device)\n",
    "\n",
    "    with torch.no_grad():\n",
    "        outputs = llm_model.generate(\n",
    "            **inputs,\n",
    "            max_new_tokens=2048,\n",
    "            do_sample=True,\n",
    "            temperature=0.7,\n",
    "            top_p=0.9,\n",
    "            pad_token_id=llm_tokenizer.eos_token_id,\n",
    "            eos_token_id=llm_tokenizer.eos_token_id\n",
    "        )\n",
    "\n",
    "    generated_text = llm_tokenizer.decode(outputs[0][inputs['input_ids'].shape[1]:], skip_special_tokens=True)\n",
    "    \n",
    "    match = re.search(rf\"{re.escape(analysis_start)}\\s*(.+?)\\s*{re.escape(analysis_end)}\", generated_text, re.DOTALL | re.IGNORECASE)\n",
    "    if match:\n",
    "        analysis = match.group(1).strip()\n",
    "        print(analysis)\n",
    "    else:\n",
    "        print(f\"Raw Generated Output (no tags found):\\n{generated_text}\")"
   ]
  },
  {
   "cell_type": "code",
   "execution_count": null,
   "id": "1b76d961",
   "metadata": {},
   "outputs": [],
   "source": []
  }
 ],
 "metadata": {
  "kernelspec": {
   "display_name": "Python 3",
   "language": "python",
   "name": "python3"
  },
  "language_info": {
   "codemirror_mode": {
    "name": "ipython",
    "version": 3
   },
   "file_extension": ".py",
   "mimetype": "text/x-python",
   "name": "python",
   "nbconvert_exporter": "python",
   "pygments_lexer": "ipython3",
   "version": "3.12.0"
  }
 },
 "nbformat": 4,
 "nbformat_minor": 5
}
